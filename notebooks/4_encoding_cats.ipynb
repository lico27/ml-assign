{
 "cells": [
  {
   "cell_type": "markdown",
   "metadata": {},
   "source": [
    "# Encoding Categorical and Temporal Data\n",
    "\n",
    "## Setup"
   ]
  },
  {
   "cell_type": "code",
   "execution_count": null,
   "metadata": {},
   "outputs": [],
   "source": [
    "#import libraries\n",
    "import pandas as pd\n",
    "import numpy as np\n",
    "import janitor\n",
    "from sklearn.preprocessing import OneHotEncoder"
   ]
  },
  {
   "cell_type": "code",
   "execution_count": null,
   "metadata": {},
   "outputs": [],
   "source": [
    "df = pd.read_csv(\"../data/df_after_imputation.csv\", parse_dates=[\"datetime\"])"
   ]
  },
  {
   "cell_type": "code",
   "execution_count": null,
   "metadata": {},
   "outputs": [],
   "source": [
    "#save raw features for later interpretability\n",
    "raw_features = [\"area\", \"vict_sex\", \"vict_descent\", \"weapon_group\", \"crime_group\", \"premises_group\", \"hour\", \"day\", \"month\"]\n",
    "df_raw = df[raw_features].copy()\n",
    "df_raw.to_parquet(\"../data/df_raw.parquet\", index=True)"
   ]
  },
  {
   "cell_type": "code",
   "execution_count": null,
   "metadata": {},
   "outputs": [],
   "source": [
    "#tidy df ready for encoding\n",
    "df = (\n",
    "    df.drop(columns=[\"date\", \"time_str\", \"lat\", \"lon\", \"time\", \"vict_age\", \"datetime\"]\n",
    "    ).reorder_columns(\n",
    "    [\n",
    "        \"area\",\n",
    "        \"vict_sex\",\n",
    "        \"vict_descent\",\n",
    "        \"weapon_group\",\n",
    "        \"crime_group\",\n",
    "        \"premises_group\",\n",
    "        \"hour\",\n",
    "        \"day\",\n",
    "        \"month\",\n",
    "        \"is_child\"\n",
    "    ]\n",
    "    )\n",
    ")\n",
    "\n",
    "#cast boolean to int\n",
    "df[\"is_child\"] = df[\"is_child\"].astype(int)"
   ]
  },
  {
   "cell_type": "markdown",
   "metadata": {},
   "source": [
    "## One-Hot Encoding \n",
    "\n",
    "I will use one-hot encoding to prepare the categorical variables to be used as features in the model (Rojo-Echeburúa, 2024)."
   ]
  },
  {
   "cell_type": "code",
   "execution_count": null,
   "metadata": {},
   "outputs": [],
   "source": [
    "#get categorical variables\n",
    "X = df[[\"area\", \"vict_sex\", \"vict_descent\", \"weapon_group\", \"crime_group\", \"premises_group\"]]\n",
    "\n",
    "#instantiate and fit encoder\n",
    "oh_encoder = OneHotEncoder(drop=\"if_binary\", handle_unknown=\"error\")\n",
    "oh_encoder.fit(X)\n",
    "oh = oh_encoder.transform(X).toarray()\n",
    "\n",
    "#get features into df\n",
    "feature_names = oh_encoder.get_feature_names_out([\"area\", \"vict_sex\", \"vict_descent\", \"weapon_group\", \"crime_group\", \"premises_group\"])\n",
    "df_oh = pd.DataFrame(oh, columns=feature_names)\n",
    "\n",
    "#code adapted from Rojo-Echeburúa (2024) "
   ]
  },
  {
   "cell_type": "code",
   "execution_count": null,
   "metadata": {},
   "outputs": [],
   "source": [
    "#tidy and check variable names\n",
    "df_oh = df_oh.clean_names()\n",
    "df_oh.columns = df_oh.columns.str.replace(\"_group_\", \"_\")\n",
    "df_oh.columns"
   ]
  },
  {
   "cell_type": "code",
   "execution_count": null,
   "metadata": {},
   "outputs": [],
   "source": [
    "#get non-categorical variables and readd to df\n",
    "non_cat = df.drop([\"area\", \"vict_sex\", \"vict_descent\", \"weapon_group\", \"crime_group\", \"premises_group\"], axis=1)\n",
    "df = pd.concat([non_cat, df_oh], axis=1)"
   ]
  },
  {
   "cell_type": "code",
   "execution_count": null,
   "metadata": {},
   "outputs": [],
   "source": [
    "#check\n",
    "df.head()"
   ]
  },
  {
   "cell_type": "markdown",
   "metadata": {},
   "source": [
    "## Cyclical Encoding\n",
    "\n",
    "Next I will use cyclical encoding to make the temporal variables more interpretable by the model (Pelletier, 2024)."
   ]
  },
  {
   "cell_type": "code",
   "execution_count": null,
   "metadata": {},
   "outputs": [],
   "source": [
    "#get sin and cos for hour of day, day of week, and month of year\n",
    "df[\"hour_sin\"]  = np.sin(2 * np.pi * df[\"hour\"] / 24)\n",
    "df[\"hour_cos\"]  = np.cos(2 * np.pi * df[\"hour\"] / 24)\n",
    "df[\"day_sin\"] = np.sin(2 * np.pi * df[\"day\"] / 7)\n",
    "df[\"day_cos\"] = np.cos(2 * np.pi * df[\"day\"] / 7)\n",
    "df[\"month_sin\"] = np.sin(2 * np.pi * (df[\"month\"] - 1) / 12)\n",
    "df[\"month_cos\"] = np.cos(2 * np.pi * (df[\"month\"] - 1) / 12)\n",
    "\n",
    "#code adapted from Pelletier (2024)"
   ]
  },
  {
   "cell_type": "code",
   "execution_count": null,
   "metadata": {},
   "outputs": [],
   "source": [
    "#drop original variables\n",
    "df = df.drop(columns=[\"hour\", \"day\", \"month\"])"
   ]
  },
  {
   "cell_type": "code",
   "execution_count": null,
   "metadata": {},
   "outputs": [],
   "source": [
    "#final df\n",
    "df.head()"
   ]
  },
  {
   "cell_type": "markdown",
   "metadata": {},
   "source": [
    "## Dataframe Export"
   ]
  },
  {
   "cell_type": "code",
   "execution_count": null,
   "metadata": {},
   "outputs": [],
   "source": [
    "# df.to_csv(\"../data/df_final.csv\", index=False, encoding=\"utf-8\")"
   ]
  }
 ],
 "metadata": {
  "kernelspec": {
   "display_name": "ml-assign",
   "language": "python",
   "name": "python3"
  },
  "language_info": {
   "codemirror_mode": {
    "name": "ipython",
    "version": 3
   },
   "file_extension": ".py",
   "mimetype": "text/x-python",
   "name": "python",
   "nbconvert_exporter": "python",
   "pygments_lexer": "ipython3",
   "version": "3.10.18"
  }
 },
 "nbformat": 4,
 "nbformat_minor": 2
}
