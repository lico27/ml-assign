{
 "cells": [
  {
   "cell_type": "markdown",
   "metadata": {},
   "source": [
    "# Dealing with Over-Representation of 12pm Data\n",
    "\n",
    "## Setup"
   ]
  },
  {
   "cell_type": "code",
   "execution_count": 1,
   "metadata": {},
   "outputs": [],
   "source": [
    "#import libraries\n",
    "import pandas as pd\n",
    "import numpy as np\n",
    "from sklearn.impute import KNNImputer\n",
    "from sklearn.preprocessing import LabelEncoder"
   ]
  },
  {
   "cell_type": "code",
   "execution_count": 2,
   "metadata": {},
   "outputs": [],
   "source": [
    "df = pd.read_csv(\"../data/df_after_grouping.csv\", dtype={\"time_str\": str}, parse_dates=[\"date\", \"datetime\"])"
   ]
  },
  {
   "cell_type": "markdown",
   "metadata": {},
   "source": [
    "## Feature Engineering\n",
    "\n",
    "I have already removed several features that I do not deem to be important for my model, and I will drop the rest that I don't intend to use now that I have finished my EDA.\n",
    "\n",
    "I also need to extract some features: from the datetime column, to explore the temporal factors around child victimisation, and from `vict_age` to identify if the victim is a child. I will apply cyclical encoding to `hour`, `day` and `month`. I will extract the temporal features as categorical variables, which can then be explored and encoded.\n",
    "\n",
    "There is a notable spike at 12pm, indicating that officers may use 12pm as a placeholder when they are unsure of the exact time that a crime took place. This is backed up by Kaplan (2025), who states that this phenomenon also sometimes applies to the first of the month - which I noted in this dataset. I will handle the 12pm concentration bias problem by converting a sample of 12pm to NaN and then using hot deck imputation. However, I will drop `day_of_month` instead of imputing or trying to determine another approach, as I do not feel that it is likely to be as useful a feature."
   ]
  },
  {
   "cell_type": "code",
   "execution_count": 3,
   "metadata": {},
   "outputs": [],
   "source": [
    "#get temporal features\n",
    "df[\"hour\"] = df[\"datetime\"].dt.hour\n",
    "df[\"day\"] = df[\"datetime\"].dt.dayofweek\n",
    "df[\"month\"] = df[\"datetime\"].dt.month\n",
    "\n",
    "#indicate if victim is a child\n",
    "df[\"is_child\"] = df[\"vict_age\"] < 18"
   ]
  },
  {
   "cell_type": "markdown",
   "metadata": {},
   "source": [
    "## Hot Deck Imputation"
   ]
  },
  {
   "cell_type": "code",
   "execution_count": 4,
   "metadata": {},
   "outputs": [],
   "source": [
    "#get likely true number of crimes at noon\n",
    "noon_avg = int((df[df[\"hour\"] == 11].shape[0] + df[df[\"hour\"] == 13].shape[0]) / 2)\n",
    "\n",
    "#get length of data to drop\n",
    "all_noons = df[df[\"hour\"] == 12]\n",
    "drop_len = len(all_noons) - noon_avg\n",
    "\n",
    "#drop random noons\n",
    "np.random.seed(42)\n",
    "drop_noons = all_noons.sample(n=drop_len, random_state=42).index\n",
    "\n",
    "#replace noons with nans\n",
    "df[\"hour_less_12\"] = df[\"hour\"].copy()\n",
    "df.loc[drop_noons, \"hour_less_12\"] = np.nan"
   ]
  },
  {
   "cell_type": "code",
   "execution_count": 5,
   "metadata": {},
   "outputs": [],
   "source": [
    "#instantiate encoders for selected categorical features\n",
    "area_le = LabelEncoder()\n",
    "crime_le = LabelEncoder()\n",
    "day_le = LabelEncoder()\n",
    "\n",
    "#encode categorical features\n",
    "df[\"crime_encoded\"] = crime_le.fit_transform(df[\"crime_group\"])\n",
    "df[\"day_encoded\"] = day_le.fit_transform(df[\"day\"])\n",
    "df[\"area_encoded\"] = area_le.fit_transform(df[\"area\"])\n",
    "\n",
    "#get feature matrix\n",
    "imputer_features = df[[\"crime_encoded\", \"day_encoded\", \"area_encoded\"]].values\n",
    "\n",
    "#impute missing hours\n",
    "imputer = KNNImputer(n_neighbors=3)\n",
    "df[\"hour_imputed\"] = imputer.fit_transform(np.column_stack([imputer_features, df[\"hour_less_12\"].values]))[:, -1]\n",
    "df[\"hour_imputed\"] = np.round(df[\"hour_imputed\"]).astype(int)"
   ]
  },
  {
   "cell_type": "code",
   "execution_count": 6,
   "metadata": {},
   "outputs": [],
   "source": [
    "#drop and rename columns\n",
    "df = df.drop(columns=[\"hour\", \"hour_less_12\", \"crime_encoded\", \"day_encoded\", \"area_encoded\"]).rename(columns={\"hour_imputed\":\"hour\"})"
   ]
  },
  {
   "cell_type": "markdown",
   "metadata": {},
   "source": [
    "It may have been a better approach to carry out cyclical encoding of the hour before imputing, as the model may misinterpret the cyclical nature of `hour`."
   ]
  },
  {
   "cell_type": "code",
   "execution_count": 7,
   "metadata": {},
   "outputs": [
    {
     "data": {
      "text/plain": [
       "date              0\n",
       "time_str          0\n",
       "area              0\n",
       "vict_age          0\n",
       "vict_sex          0\n",
       "vict_descent      0\n",
       "lat               0\n",
       "lon               0\n",
       "time              0\n",
       "datetime          0\n",
       "weapon_group      0\n",
       "crime_group       0\n",
       "premises_group    0\n",
       "day               0\n",
       "month             0\n",
       "is_child          0\n",
       "hour              0\n",
       "dtype: int64"
      ]
     },
     "execution_count": 7,
     "metadata": {},
     "output_type": "execute_result"
    }
   ],
   "source": [
    "#final check for nulls\n",
    "df.isna().sum()"
   ]
  },
  {
   "cell_type": "markdown",
   "metadata": {},
   "source": [
    "## Dataframe Export"
   ]
  },
  {
   "cell_type": "code",
   "execution_count": 8,
   "metadata": {},
   "outputs": [],
   "source": [
    "# df.to_csv(\"../data/df_after_imputation.csv\", index=False)"
   ]
  }
 ],
 "metadata": {
  "kernelspec": {
   "display_name": "ml-assign",
   "language": "python",
   "name": "python3"
  },
  "language_info": {
   "codemirror_mode": {
    "name": "ipython",
    "version": 3
   },
   "file_extension": ".py",
   "mimetype": "text/x-python",
   "name": "python",
   "nbconvert_exporter": "python",
   "pygments_lexer": "ipython3",
   "version": "3.10.18"
  }
 },
 "nbformat": 4,
 "nbformat_minor": 2
}
