{
 "cells": [
  {
   "cell_type": "markdown",
   "metadata": {},
   "source": [
    "# First Iteration - Model Prototypes\n",
    "\n",
    "## Setup"
   ]
  },
  {
   "cell_type": "code",
   "execution_count": 1,
   "metadata": {},
   "outputs": [],
   "source": [
    "#import libraries\n",
    "import pandas as pd\n",
    "from sklearn.model_selection import train_test_split\n",
    "from sklearn.linear_model import LogisticRegression\n",
    "from sklearn.ensemble import RandomForestClassifier\n",
    "from sklearn.naive_bayes import GaussianNB\n",
    "from sklearn.metrics import classification_report, roc_auc_score, recall_score\n",
    "from imblearn.over_sampling import SMOTE"
   ]
  },
  {
   "cell_type": "code",
   "execution_count": 2,
   "metadata": {},
   "outputs": [],
   "source": [
    "df = pd.read_csv(\"../data/df_final.csv\")"
   ]
  },
  {
   "cell_type": "markdown",
   "metadata": {},
   "source": [
    "I will create prototypes for three models: Logistic Regression, Random Forest, and Naïve Bayes. This will allow me to quickly gain an understanding of their respective performance, and inform my final model selection.\n",
    "\n",
    "Because my data is unbalanced, I will first use SMOTE to create additional synthetic data for the less frequent class (`is_child` == 1) to account for this."
   ]
  },
  {
   "cell_type": "code",
   "execution_count": 3,
   "metadata": {},
   "outputs": [],
   "source": [
    "#get features and target\n",
    "X = df.drop(\"is_child\", axis=1)\n",
    "y = df[\"is_child\"]"
   ]
  },
  {
   "cell_type": "code",
   "execution_count": 4,
   "metadata": {},
   "outputs": [],
   "source": [
    "#split into train and test data\n",
    "X_train, X_test, y_train, y_test = train_test_split(X, y, train_size=100000, test_size=40000, random_state=42, stratify=y)"
   ]
  },
  {
   "cell_type": "code",
   "execution_count": 5,
   "metadata": {},
   "outputs": [],
   "source": [
    "#oversample using smote\n",
    "smote = SMOTE(random_state=42)\n",
    "X_train_res, y_train_res = smote.fit_resample(X_train, y_train)\n",
    "\n",
    "#code adapted from Singh (2025)"
   ]
  },
  {
   "cell_type": "code",
   "execution_count": 6,
   "metadata": {},
   "outputs": [
    {
     "name": "stdout",
     "output_type": "stream",
     "text": [
      "Minority class pre-SMOTE: 0.052 | Post-SMOTE: 0.500\n"
     ]
    }
   ],
   "source": [
    "#check class balance\n",
    "pre_smote = y_train.value_counts(normalize=True)\n",
    "post_smote = y_train_res.value_counts(normalize=True)\n",
    "print(f\"Minority class pre-SMOTE: {pre_smote[1]:.3f} | Post-SMOTE: {post_smote[1]:.3f}\")"
   ]
  },
  {
   "cell_type": "markdown",
   "metadata": {},
   "source": [
    "## Logistic Regression Prototype"
   ]
  },
  {
   "cell_type": "code",
   "execution_count": 7,
   "metadata": {},
   "outputs": [
    {
     "name": "stdout",
     "output_type": "stream",
     "text": [
      "ROC AUC: 0.8472\n",
      "              precision    recall  f1-score   support\n",
      "\n",
      "           0       0.98      0.80      0.88     37900\n",
      "           1       0.17      0.73      0.28      2100\n",
      "\n",
      "    accuracy                           0.80     40000\n",
      "   macro avg       0.58      0.77      0.58     40000\n",
      "weighted avg       0.94      0.80      0.85     40000\n",
      "\n"
     ]
    }
   ],
   "source": [
    "#instantiate model\n",
    "lr = LogisticRegression(random_state=42)\n",
    "\n",
    "#fit model\n",
    "lr.fit(X_train_res, y_train_res)\n",
    "\n",
    "#predict\n",
    "y_pred_proba = lr.predict_proba(X_test)[:, 1]\n",
    "y_pred = lr.predict(X_test)\n",
    "\n",
    "#evaluate\n",
    "print(f\"ROC AUC: {roc_auc_score(y_test, y_pred_proba):.4f}\")\n",
    "print(classification_report(y_test, y_pred))"
   ]
  },
  {
   "cell_type": "markdown",
   "metadata": {},
   "source": [
    "## Random Forest Prototype"
   ]
  },
  {
   "cell_type": "code",
   "execution_count": 8,
   "metadata": {},
   "outputs": [
    {
     "name": "stdout",
     "output_type": "stream",
     "text": [
      "ROC AUC: 0.8381\n",
      "              precision    recall  f1-score   support\n",
      "\n",
      "           0       0.96      0.99      0.97     37900\n",
      "           1       0.55      0.28      0.37      2100\n",
      "\n",
      "    accuracy                           0.95     40000\n",
      "   macro avg       0.76      0.63      0.67     40000\n",
      "weighted avg       0.94      0.95      0.94     40000\n",
      "\n"
     ]
    }
   ],
   "source": [
    "#instantiate\n",
    "rf = RandomForestClassifier(random_state=42)\n",
    "\n",
    "#fit\n",
    "rf.fit(X_train_res, y_train_res)\n",
    "\n",
    "#predict\n",
    "y_pred_proba = rf.predict_proba(X_test)[:, 1]\n",
    "y_pred = rf.predict(X_test)\n",
    "\n",
    "#evaluate\n",
    "print(f\"ROC AUC: {roc_auc_score(y_test, y_pred_proba):.4f}\")\n",
    "print(classification_report(y_test, y_pred))"
   ]
  },
  {
   "cell_type": "markdown",
   "metadata": {},
   "source": [
    "## Naïve Bayes Prototype"
   ]
  },
  {
   "cell_type": "code",
   "execution_count": 9,
   "metadata": {},
   "outputs": [
    {
     "name": "stdout",
     "output_type": "stream",
     "text": [
      "ROC AUC: 0.7861\n",
      "              precision    recall  f1-score   support\n",
      "\n",
      "           0       0.98      0.63      0.77     37900\n",
      "           1       0.10      0.77      0.18      2100\n",
      "\n",
      "    accuracy                           0.64     40000\n",
      "   macro avg       0.54      0.70      0.48     40000\n",
      "weighted avg       0.93      0.64      0.74     40000\n",
      "\n"
     ]
    }
   ],
   "source": [
    "#instantiate\n",
    "nb = GaussianNB()\n",
    "\n",
    "#fit\n",
    "nb.fit(X_train_res, y_train_res)\n",
    "\n",
    "#predict\n",
    "y_pred_proba = nb.predict_proba(X_test)[:, 1]\n",
    "y_pred = nb.predict(X_test)\n",
    "\n",
    "#evaluate\n",
    "print(f\"ROC AUC: {roc_auc_score(y_test, y_pred_proba):.4f}\")\n",
    "print(classification_report(y_test, y_pred))    "
   ]
  }
 ],
 "metadata": {
  "kernelspec": {
   "display_name": "ml-assign",
   "language": "python",
   "name": "python3"
  },
  "language_info": {
   "codemirror_mode": {
    "name": "ipython",
    "version": 3
   },
   "file_extension": ".py",
   "mimetype": "text/x-python",
   "name": "python",
   "nbconvert_exporter": "python",
   "pygments_lexer": "ipython3",
   "version": "3.10.18"
  }
 },
 "nbformat": 4,
 "nbformat_minor": 2
}
